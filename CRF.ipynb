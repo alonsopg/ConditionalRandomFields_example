{
 "cells": [
  {
   "cell_type": "markdown",
   "metadata": {},
   "source": [
    "#  Conditional random fields"
   ]
  },
  {
   "cell_type": "markdown",
   "metadata": {},
   "source": [
    "Assume that we do not know the actual labels of a bunch of opinions or any other dataset. We can perform unsupervised feature learning to extract the labels of a unlabeled dataset. This is very useful, since when we scrap free text from the web we can label it in order to perform unsupervised learning techniques to predict or classify new instances. I will use the same opinions of my [thesis](http://132.248.9.195/ptd2016/mayo/307602673/Index.html), the task was about perform sentiment analysis from a corpus of washing machine reviews in spanish (i.e. sentiment classification from 1-5 stars).\n"
   ]
  },
  {
   "cell_type": "markdown",
   "metadata": {},
   "source": [
    "## First read the data:"
   ]
  },
  {
   "cell_type": "code",
   "execution_count": 1,
   "metadata": {
    "collapsed": false
   },
   "outputs": [
    {
     "data": {
      "text/html": [
       "<div>\n",
       "<table border=\"1\" class=\"dataframe\">\n",
       "  <thead>\n",
       "    <tr style=\"text-align: right;\">\n",
       "      <th></th>\n",
       "      <th>id</th>\n",
       "      <th>content</th>\n",
       "    </tr>\n",
       "  </thead>\n",
       "  <tbody>\n",
       "    <tr>\n",
       "      <th>0</th>\n",
       "      <td>AEG_Electrolux_60840_Lavamat__Opinion_1506705....</td>\n",
       "      <td>'Silencio y facilidad. Con estas dos palabras...</td>\n",
       "    </tr>\n",
       "    <tr>\n",
       "      <th>1</th>\n",
       "      <td>AEG_Electrolux_62610_Lavamat__Opinion_2000923....</td>\n",
       "      <td>'Hola compis!No sabía como se ponía una lavad...</td>\n",
       "    </tr>\n",
       "    <tr>\n",
       "      <th>2</th>\n",
       "      <td>AEG_Electrolux_L14800VI__Opinion_2005396.html.txt</td>\n",
       "      <td>'Esta lavadora es de lo más práctica para aqu...</td>\n",
       "    </tr>\n",
       "    <tr>\n",
       "      <th>3</th>\n",
       "      <td>AEG_Electrolux_L6227FL__Opinion_2140710.html.txt</td>\n",
       "      <td>'Buenas tardes amigos y compañeros de ciao......</td>\n",
       "    </tr>\n",
       "    <tr>\n",
       "      <th>4</th>\n",
       "      <td>AEG_Electrolux_L62280FL__Opinion_2151025.html.txt</td>\n",
       "      <td>'Empecemos por una ventaja muy importante: la...</td>\n",
       "    </tr>\n",
       "  </tbody>\n",
       "</table>\n",
       "</div>"
      ],
      "text/plain": [
       "                                                  id  \\\n",
       "0  AEG_Electrolux_60840_Lavamat__Opinion_1506705....   \n",
       "1  AEG_Electrolux_62610_Lavamat__Opinion_2000923....   \n",
       "2  AEG_Electrolux_L14800VI__Opinion_2005396.html.txt   \n",
       "3   AEG_Electrolux_L6227FL__Opinion_2140710.html.txt   \n",
       "4  AEG_Electrolux_L62280FL__Opinion_2151025.html.txt   \n",
       "\n",
       "                                             content  \n",
       "0   'Silencio y facilidad. Con estas dos palabras...  \n",
       "1   'Hola compis!No sabía como se ponía una lavad...  \n",
       "2   'Esta lavadora es de lo más práctica para aqu...  \n",
       "3   'Buenas tardes amigos y compañeros de ciao......  \n",
       "4   'Empecemos por una ventaja muy importante: la...  "
      ]
     },
     "execution_count": 1,
     "metadata": {},
     "output_type": "execute_result"
    }
   ],
   "source": [
    "import pandas as pd\n",
    "\n",
    "\n",
    "df = pd.read_csv('/Users/user/jupyter_notebooks/unsupervised_feature_learning/data/new_corpus.csv', sep = '|', names=['id','content']).dropna()\n",
    "\n",
    "\n",
    "X = df['content']\n",
    "\n",
    "#y = df['label'].values\n",
    "df.head()"
   ]
  },
  {
   "cell_type": "markdown",
   "metadata": {},
   "source": [
    "## Vectorize our data"
   ]
  },
  {
   "cell_type": "code",
   "execution_count": 2,
   "metadata": {
    "collapsed": false
   },
   "outputs": [
    {
     "data": {
      "text/plain": [
       "array([[0, 1, 0, ..., 0, 0, 0],\n",
       "       [0, 0, 0, ..., 0, 0, 0],\n",
       "       [0, 0, 0, ..., 0, 0, 0],\n",
       "       ..., \n",
       "       [0, 0, 0, ..., 0, 0, 0],\n",
       "       [0, 0, 0, ..., 0, 0, 0],\n",
       "       [0, 0, 0, ..., 0, 0, 0]], dtype=int64)"
      ]
     },
     "execution_count": 2,
     "metadata": {},
     "output_type": "execute_result"
    }
   ],
   "source": [
    "\n",
    "from sklearn.feature_extraction.text import CountVectorizer\n",
    "count_vect = CountVectorizer()\n",
    "X = count_vect.fit_transform(X)\n",
    "X.toarray()"
   ]
  },
  {
   "cell_type": "markdown",
   "metadata": {},
   "source": [
    "## With K-means:"
   ]
  },
  {
   "cell_type": "code",
   "execution_count": 3,
   "metadata": {
    "collapsed": false
   },
   "outputs": [
    {
     "data": {
      "text/plain": [
       "KMeans(copy_x=True, init='k-means++', max_iter=300, n_clusters=5, n_init=10,\n",
       "    n_jobs=1, precompute_distances='auto', random_state=None, tol=0.0001,\n",
       "    verbose=0)"
      ]
     },
     "execution_count": 3,
     "metadata": {},
     "output_type": "execute_result"
    }
   ],
   "source": [
    "from sklearn import cluster\n",
    "k_means = cluster.KMeans(n_clusters=5)\n",
    "k_means.fit(X)"
   ]
  },
  {
   "cell_type": "markdown",
   "metadata": {},
   "source": [
    "## We learned the labels:"
   ]
  },
  {
   "cell_type": "code",
   "execution_count": 4,
   "metadata": {
    "collapsed": false
   },
   "outputs": [
    {
     "data": {
      "text/plain": [
       "array([1, 0, 1, 1, 1, 1, 1, 1, 2, 3, 2, 1, 0, 1, 1, 1, 1, 1, 0, 2, 0, 0, 1,\n",
       "       1, 1, 1, 1, 1, 4, 1, 1, 0, 4, 1, 4, 1, 2, 1, 1, 2, 2, 1, 1, 1, 1, 1,\n",
       "       1, 0, 1, 1, 0, 1, 1, 0, 1, 1, 1, 1, 1, 1, 3, 2, 1, 1, 1, 1, 1, 1, 2,\n",
       "       1, 0, 4, 1, 0, 4, 1, 1, 1, 1, 1, 1, 0, 1, 0, 1, 4, 1, 1, 1, 1, 1, 1,\n",
       "       0, 0, 1, 1, 1, 1, 1, 1, 1, 3, 1, 2, 1, 1, 0, 1, 1, 1, 1, 1, 0, 0, 1,\n",
       "       1, 4, 1, 0, 0, 1, 1, 1, 1, 1, 0, 1, 1, 1, 0, 1, 1, 4, 0, 1, 1, 4, 1,\n",
       "       1, 1, 1, 4, 0, 1, 1, 1, 1, 1, 1, 1, 2, 1, 1, 1, 1, 1, 1, 1, 0, 1, 1,\n",
       "       1, 0, 4, 1, 1, 1, 1, 1, 4, 1, 0, 0, 4, 1, 1, 1, 4, 1, 1, 1, 0, 2, 1,\n",
       "       0, 1, 1, 1, 1, 1, 1, 1, 1, 0, 0, 1, 0, 4, 2, 0, 1, 0, 0, 0, 4, 1, 0,\n",
       "       1, 1, 4, 1, 1, 1, 1, 4, 1, 1, 0, 1, 0, 1, 1, 1, 0, 0, 1, 1, 1, 3, 1,\n",
       "       1, 1, 1, 1, 2, 1, 1, 2, 0, 1, 1, 1, 0, 2, 1, 1, 1, 2, 1, 1, 0, 0, 1,\n",
       "       1, 1, 1, 3, 3, 1, 1, 1, 1], dtype=int32)"
      ]
     },
     "execution_count": 4,
     "metadata": {},
     "output_type": "execute_result"
    }
   ],
   "source": [
    "k_means.labels_[::10]"
   ]
  },
  {
   "cell_type": "code",
   "execution_count": 5,
   "metadata": {
    "collapsed": false
   },
   "outputs": [
    {
     "data": {
      "text/plain": [
       "numpy.ndarray"
      ]
     },
     "execution_count": 5,
     "metadata": {},
     "output_type": "execute_result"
    }
   ],
   "source": [
    "y = k_means.labels_\n",
    "type(y)"
   ]
  },
  {
   "cell_type": "markdown",
   "metadata": {},
   "source": [
    "## Now let's rearrange the dataframe "
   ]
  },
  {
   "cell_type": "code",
   "execution_count": 6,
   "metadata": {
    "collapsed": false
   },
   "outputs": [],
   "source": [
    "df['labels'] = y"
   ]
  },
  {
   "cell_type": "code",
   "execution_count": 13,
   "metadata": {
    "collapsed": false
   },
   "outputs": [
    {
     "data": {
      "text/html": [
       "<div>\n",
       "<table border=\"1\" class=\"dataframe\">\n",
       "  <thead>\n",
       "    <tr style=\"text-align: right;\">\n",
       "      <th></th>\n",
       "      <th>id</th>\n",
       "      <th>content</th>\n",
       "      <th>labels</th>\n",
       "    </tr>\n",
       "  </thead>\n",
       "  <tbody>\n",
       "    <tr>\n",
       "      <th>0</th>\n",
       "      <td>AEG_Electrolux_60840_Lavamat__Opinion_1506705....</td>\n",
       "      <td>'Silencio y facilidad. Con estas dos palabras...</td>\n",
       "      <td>1</td>\n",
       "    </tr>\n",
       "    <tr>\n",
       "      <th>1</th>\n",
       "      <td>AEG_Electrolux_62610_Lavamat__Opinion_2000923....</td>\n",
       "      <td>'Hola compis!No sabía como se ponía una lavad...</td>\n",
       "      <td>1</td>\n",
       "    </tr>\n",
       "    <tr>\n",
       "      <th>2</th>\n",
       "      <td>AEG_Electrolux_L14800VI__Opinion_2005396.html.txt</td>\n",
       "      <td>'Esta lavadora es de lo más práctica para aqu...</td>\n",
       "      <td>1</td>\n",
       "    </tr>\n",
       "    <tr>\n",
       "      <th>3</th>\n",
       "      <td>AEG_Electrolux_L6227FL__Opinion_2140710.html.txt</td>\n",
       "      <td>'Buenas tardes amigos y compañeros de ciao......</td>\n",
       "      <td>1</td>\n",
       "    </tr>\n",
       "    <tr>\n",
       "      <th>4</th>\n",
       "      <td>AEG_Electrolux_L62280FL__Opinion_2151025.html.txt</td>\n",
       "      <td>'Empecemos por una ventaja muy importante: la...</td>\n",
       "      <td>1</td>\n",
       "    </tr>\n",
       "  </tbody>\n",
       "</table>\n",
       "</div>"
      ],
      "text/plain": [
       "                                                  id  \\\n",
       "0  AEG_Electrolux_60840_Lavamat__Opinion_1506705....   \n",
       "1  AEG_Electrolux_62610_Lavamat__Opinion_2000923....   \n",
       "2  AEG_Electrolux_L14800VI__Opinion_2005396.html.txt   \n",
       "3   AEG_Electrolux_L6227FL__Opinion_2140710.html.txt   \n",
       "4  AEG_Electrolux_L62280FL__Opinion_2151025.html.txt   \n",
       "\n",
       "                                             content  labels  \n",
       "0   'Silencio y facilidad. Con estas dos palabras...       1  \n",
       "1   'Hola compis!No sabía como se ponía una lavad...       1  \n",
       "2   'Esta lavadora es de lo más práctica para aqu...       1  \n",
       "3   'Buenas tardes amigos y compañeros de ciao......       1  \n",
       "4   'Empecemos por una ventaja muy importante: la...       1  "
      ]
     },
     "execution_count": 13,
     "metadata": {},
     "output_type": "execute_result"
    }
   ],
   "source": [
    "df.to_csv('/Users/user/jupyter_notebooks/unsupervised_feature_learning/data/new_labeled_corpus.csv', columns=['id', 'content','label'],index = False)\n",
    "df.head()"
   ]
  },
  {
   "cell_type": "code",
   "execution_count": 8,
   "metadata": {
    "collapsed": false
   },
   "outputs": [
    {
     "data": {
      "text/plain": [
       "1    1758\n",
       "0     536\n",
       "2     183\n",
       "4     105\n",
       "3      36\n",
       "Name: labels, dtype: int64"
      ]
     },
     "execution_count": 8,
     "metadata": {},
     "output_type": "execute_result"
    }
   ],
   "source": [
    "df['labels'].value_counts()"
   ]
  },
  {
   "cell_type": "markdown",
   "metadata": {},
   "source": []
  },
  {
   "cell_type": "markdown",
   "metadata": {},
   "source": []
  },
  {
   "cell_type": "code",
   "execution_count": 6,
   "metadata": {
    "collapsed": false
   },
   "outputs": [
    {
     "ename": "ImportError",
     "evalue": "No module named 'pystruct'",
     "output_type": "error",
     "traceback": [
      "\u001b[0;31m---------------------------------------------------------------------------\u001b[0m",
      "\u001b[0;31mImportError\u001b[0m                               Traceback (most recent call last)",
      "\u001b[0;32m<ipython-input-6-342a2d365722>\u001b[0m in \u001b[0;36m<module>\u001b[0;34m()\u001b[0m\n\u001b[0;32m----> 1\u001b[0;31m \u001b[0;32mfrom\u001b[0m \u001b[0mpystruct\u001b[0m\u001b[0;34m.\u001b[0m\u001b[0mmodels\u001b[0m \u001b[0;32mimport\u001b[0m \u001b[0mChainCRF\u001b[0m\u001b[0;34m\u001b[0m\u001b[0m\n\u001b[0m\u001b[1;32m      2\u001b[0m \u001b[0;32mfrom\u001b[0m \u001b[0mpystruct\u001b[0m\u001b[0;34m.\u001b[0m\u001b[0mlearners\u001b[0m \u001b[0;32mimport\u001b[0m \u001b[0mFrankWolfeSSVM\u001b[0m\u001b[0;34m\u001b[0m\u001b[0m\n\u001b[1;32m      3\u001b[0m \u001b[0mmodel\u001b[0m \u001b[0;34m=\u001b[0m \u001b[0mChainCRF\u001b[0m\u001b[0;34m(\u001b[0m\u001b[0;34m)\u001b[0m\u001b[0;34m\u001b[0m\u001b[0m\n\u001b[1;32m      4\u001b[0m \u001b[0mssvm\u001b[0m \u001b[0;34m=\u001b[0m \u001b[0mFrankWolfeSSVM\u001b[0m\u001b[0;34m(\u001b[0m\u001b[0mmodel\u001b[0m\u001b[0;34m=\u001b[0m\u001b[0mmodel\u001b[0m\u001b[0;34m,\u001b[0m \u001b[0mC\u001b[0m\u001b[0;34m=\u001b[0m\u001b[0;36m.1\u001b[0m\u001b[0;34m,\u001b[0m \u001b[0mmax_iter\u001b[0m\u001b[0;34m=\u001b[0m\u001b[0;36m10\u001b[0m\u001b[0;34m)\u001b[0m\u001b[0;34m\u001b[0m\u001b[0m\n\u001b[1;32m      5\u001b[0m \u001b[0mssvm\u001b[0m\u001b[0;34m.\u001b[0m\u001b[0mfit\u001b[0m\u001b[0;34m(\u001b[0m\u001b[0mX_train\u001b[0m\u001b[0;34m,\u001b[0m \u001b[0my_train\u001b[0m\u001b[0;34m)\u001b[0m\u001b[0;34m\u001b[0m\u001b[0m\n",
      "\u001b[0;31mImportError\u001b[0m: No module named 'pystruct'"
     ]
    }
   ],
   "source": [
    "from pystruct.models import ChainCRF\n",
    "from pystruct.learners import FrankWolfeSSVM\n",
    "model = ChainCRF()\n",
    "ssvm = FrankWolfeSSVM(model=model, C=.1, max_iter=10)\n",
    "ssvm.fit(X_train, y_train) \n",
    "FrankWolfeSSVM()\n",
    "\n",
    "ssvm.score(X_test, y_test) \n"
   ]
  },
  {
   "cell_type": "code",
   "execution_count": null,
   "metadata": {
    "collapsed": false
   },
   "outputs": [],
   "source": []
  },
  {
   "cell_type": "code",
   "execution_count": null,
   "metadata": {
    "collapsed": false
   },
   "outputs": [],
   "source": []
  },
  {
   "cell_type": "code",
   "execution_count": null,
   "metadata": {
    "collapsed": true
   },
   "outputs": [],
   "source": []
  },
  {
   "cell_type": "code",
   "execution_count": null,
   "metadata": {
    "collapsed": false
   },
   "outputs": [],
   "source": []
  },
  {
   "cell_type": "code",
   "execution_count": null,
   "metadata": {
    "collapsed": false
   },
   "outputs": [],
   "source": []
  },
  {
   "cell_type": "code",
   "execution_count": null,
   "metadata": {
    "collapsed": true
   },
   "outputs": [],
   "source": []
  }
 ],
 "metadata": {
  "kernelspec": {
   "display_name": "Python 3",
   "language": "python",
   "name": "python3"
  },
  "language_info": {
   "codemirror_mode": {
    "name": "ipython",
    "version": 3
   },
   "file_extension": ".py",
   "mimetype": "text/x-python",
   "name": "python",
   "nbconvert_exporter": "python",
   "pygments_lexer": "ipython3",
   "version": "3.5.1"
  }
 },
 "nbformat": 4,
 "nbformat_minor": 0
}
